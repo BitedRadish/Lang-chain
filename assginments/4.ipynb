{
 "cells": [
  {
   "cell_type": "code",
   "execution_count": 35,
   "id": "4a4628d4",
   "metadata": {},
   "outputs": [],
   "source": [
    "from langchain_ollama import ChatOllama\n",
    "from langchain_community.document_loaders import PyPDFLoader\n",
    "from langchain.text_splitter import RecursiveCharacterTextSplitter\n",
    "from langchain_community.vectorstores import FAISS\n",
    "from langchain_huggingface import HuggingFaceEmbeddings\n",
    "from langchain.chains import RetrievalQA\n",
    "from langchain.prompts import PromptTemplate\n",
    "import time\n",
    "\n",
    "# 모델 일관성을 위한 상수 정의\n",
    "MODEL_NAME = \"qwen3:1.7b\"\n",
    "BASE_URL = \"http://localhost:11434\"\n",
    "EMBEDDING_MODEL_NAME = \"sentence-transformers/paraphrase-multilingual-MiniLM-L12-v2\""
   ]
  },
  {
   "cell_type": "code",
   "execution_count": 36,
   "id": "aa5c6905",
   "metadata": {},
   "outputs": [
    {
     "name": "stdout",
     "output_type": "stream",
     "text": [
      "============================================================\n",
      " 로컬 RAG 시스템 초기화\n",
      "============================================================\n",
      "==> 1. 문서 로딩 → PDF 읽기...\n",
      "총 39페이지 로드 완료\n"
     ]
    }
   ],
   "source": [
    "print(\"=\" * 60)\n",
    "print(\" 로컬 RAG 시스템 초기화\")\n",
    "print(\"=\" * 60)\n",
    "\n",
    "# 1. 문서 로딩\n",
    "print(\"==> 1. 문서 로딩 → PDF 읽기...\")\n",
    "try:\n",
    "    loader = PyPDFLoader('../data/tutorial-korean.pdf')\n",
    "    documents = loader.load()\n",
    "    print(f\"총 {len(documents)}페이지 로드 완료\")\n",
    "except Exception as e:\n",
    "    print(f\"PDF 로딩 실패: {e}\")\n",
    "    print(\"'../data/tutorial-korean.pdf' 파일이 존재하는지 확인해주세요.\")\n",
    "    exit(1)\n"
   ]
  },
  {
   "cell_type": "code",
   "execution_count": 37,
   "id": "72adcdcc",
   "metadata": {},
   "outputs": [
    {
     "name": "stdout",
     "output_type": "stream",
     "text": [
      "==> 2. 문서 분할 → 작은 청크로 나누기\n",
      "76개 청크 생성 완료\n",
      "평균 청크 길이: 605자\n"
     ]
    }
   ],
   "source": [
    "\n",
    "# 2. 문서 분할\n",
    "print(\"==> 2. 문서 분할 → 작은 청크로 나누기\")\n",
    "text_splitter = RecursiveCharacterTextSplitter(\n",
    "    chunk_size=800,\n",
    "    chunk_overlap=150,\n",
    "    separators=[\"\\n\\n\", \"\\n\", \".\", \" \", \"\"]\n",
    ")\n",
    "\n",
    "chunks = text_splitter.split_documents(documents)\n",
    "print(f\"{len(chunks)}개 청크 생성 완료\")\n",
    "print(f\"평균 청크 길이: {sum(len(chunk.page_content) for chunk in chunks) / len(chunks):.0f}자\")"
   ]
  },
  {
   "cell_type": "code",
   "execution_count": 38,
   "id": "2a0fc478",
   "metadata": {},
   "outputs": [
    {
     "name": "stdout",
     "output_type": "stream",
     "text": [
      "==> 3. 임베딩 설정...\n",
      "임베딩 모델 다운로드 중... (최초 실행 시 시간이 소요됩니다)\n",
      "HuggingFace 임베딩 모델 설정 완료\n"
     ]
    }
   ],
   "source": [
    "\n",
    "# 3. 임베딩 설정\n",
    "print(\"==> 3. 임베딩 설정...\")\n",
    "print(\"임베딩 모델 다운로드 중... (최초 실행 시 시간이 소요됩니다)\")\n",
    "try:\n",
    "    embeddings = HuggingFaceEmbeddings(\n",
    "        model_name=EMBEDDING_MODEL_NAME,\n",
    "        model_kwargs={'device': 'cpu'},\n",
    "        encode_kwargs={'normalize_embeddings': True}\n",
    "    )\n",
    "    print(\"HuggingFace 임베딩 모델 설정 완료\")\n",
    "except Exception as e:\n",
    "    print(f\"임베딩 모델 설정 실패: {e}\")\n",
    "    print(\"인터넷 연결을 확인하거나 다음 패키지를 설치해주세요:\")\n",
    "    print(\"pip install sentence-transformers\")\n",
    "    exit(1)"
   ]
  },
  {
   "cell_type": "code",
   "execution_count": 39,
   "id": "5d4b16f1",
   "metadata": {},
   "outputs": [
    {
     "name": "stdout",
     "output_type": "stream",
     "text": [
      "==> 4. 벡터스토어 생성...\n",
      "임베딩 생성 중... (시간이 소요됩니다)\n",
      "FAISS 벡터스토어 생성 완료 (76개 벡터)\n",
      "임베딩 소요 시간: 1.9초\n"
     ]
    }
   ],
   "source": [
    "\n",
    "# 4. 벡터스토어 생성\n",
    "print(\"==> 4. 벡터스토어 생성...\")\n",
    "print(\"임베딩 생성 중... (시간이 소요됩니다)\")\n",
    "\n",
    "start_time = time.time()\n",
    "try:\n",
    "    vectorstore = FAISS.from_documents(chunks, embeddings)\n",
    "    embedding_time = time.time() - start_time\n",
    "    print(f\"FAISS 벡터스토어 생성 완료 ({len(chunks)}개 벡터)\")\n",
    "    print(f\"임베딩 소요 시간: {embedding_time:.1f}초\")\n",
    "except Exception as e:\n",
    "    print(f\"벡터스토어 생성 실패: {e}\")\n",
    "    print(\"모델이 설치되어 있는지 확인해주세요: ollama pull qwen3:1.7b\")\n",
    "    exit(1)\n"
   ]
  },
  {
   "cell_type": "code",
   "execution_count": 40,
   "id": "dbe3f76e",
   "metadata": {},
   "outputs": [
    {
     "name": "stdout",
     "output_type": "stream",
     "text": [
      "==> 5. 검색기 설정...\n",
      "검색기 설정 완료\n",
      "==> 6. LLM 설정...\n",
      "LLM 설정 완료\n"
     ]
    }
   ],
   "source": [
    "\n",
    "# 5. 검색기 설정\n",
    "print(\"==> 5. 검색기 설정...\")\n",
    "retriever = vectorstore.as_retriever(\n",
    "    search_type=\"similarity\",\n",
    "    search_kwargs={\"k\": 3}\n",
    ")\n",
    "print(\"검색기 설정 완료\")\n",
    "\n",
    "# 6. LLM 설정\n",
    "print(\"==> 6. LLM 설정...\")\n",
    "try:\n",
    "    llm = ChatOllama(\n",
    "        model=MODEL_NAME,\n",
    "        temperature=0.1,\n",
    "        num_predict=800\n",
    "    )\n",
    "    print(\"LLM 설정 완료\")\n",
    "except Exception as e:\n",
    "    print(f\"LLM 설정 실패: {e}\")\n",
    "    exit(1)\n"
   ]
  },
  {
   "cell_type": "code",
   "execution_count": 41,
   "id": "bc1c79cb",
   "metadata": {},
   "outputs": [
    {
     "name": "stdout",
     "output_type": "stream",
     "text": [
      "==> 7. 프롬프트 설정...\n",
      "프롬프트 설정 완료\n"
     ]
    }
   ],
   "source": [
    "\n",
    "# 7. 프롬프트 설정\n",
    "print(\"==> 7. 프롬프트 설정...\")\n",
    "prompt_template = \"\"\"당신은 BlueJ 프로그래밍 환경 전문가입니다.\n",
    "아래 문서 내용을 바탕으로 정확하고 친절한 답변을 제공해주세요.\n",
    "\n",
    "문서 내용:\n",
    "{context}\n",
    "\n",
    "질문: {question}\n",
    "\n",
    "답변 규칙:\n",
    "1. 문서 내용만을 근거로 답변하세요\n",
    "2. 단계별로 설명하세요  \n",
    "3. 구체적인 메뉴명, 버튼명을 포함하세요\n",
    "4. 문서에 없는 정보는 \"문서에서 찾을 수 없습니다\"라고 하세요\n",
    "\n",
    "답변:\"\"\"\n",
    "\n",
    "prompt = PromptTemplate(\n",
    "    template=prompt_template,\n",
    "    input_variables=[\"context\", \"question\"]\n",
    ")\n",
    "print(\"프롬프트 설정 완료\")\n"
   ]
  },
  {
   "cell_type": "code",
   "execution_count": 42,
   "id": "ac8f2fc5",
   "metadata": {},
   "outputs": [
    {
     "name": "stdout",
     "output_type": "stream",
     "text": [
      "==> 8. QA 체인 생성...\n",
      "RAG 파이프라인 구축 완료\n"
     ]
    }
   ],
   "source": [
    "\n",
    "# 8. QA 체인 생성\n",
    "print(\"==> 8. QA 체인 생성...\")\n",
    "try:\n",
    "    qa_chain = RetrievalQA.from_chain_type(\n",
    "        llm=llm,\n",
    "        chain_type=\"stuff\",\n",
    "        retriever=retriever,\n",
    "        chain_type_kwargs={\"prompt\": prompt},\n",
    "        return_source_documents=True\n",
    "    )\n",
    "    print(\"RAG 파이프라인 구축 완료\")\n",
    "except Exception as e:\n",
    "    print(f\"QA 체인 생성 실패: {e}\")\n",
    "    exit(1)\n"
   ]
  },
  {
   "cell_type": "code",
   "execution_count": 43,
   "id": "44969472",
   "metadata": {},
   "outputs": [
    {
     "name": "stdout",
     "output_type": "stream",
     "text": [
      "\n",
      "============================================================\n",
      " 로컬 RAG 시스템 테스트\n",
      "============================================================\n",
      "\n",
      "【테스트 1/2】\n",
      "질문: BlueJ에서 객체를 생성하는 방법은 무엇인가요?\n",
      "답변 생성 중...\n",
      "\n",
      "답변: (응답시간: 29.4초)\n",
      "--------------------------------------------------\n",
      "<think>\n",
      "Okay, let's see. The user is asking how to create an object in BlueJ. I need to base the answer strictly on the provided document. Let me check the document again.\n",
      "\n",
      "The document mentions that BlueJ is a Java development environment, and it talks about opening non-BlueJ packages, adding classes from files, and other features. But there's no direct instruction on creating objects. The sections 1.1 and 1.2 discuss the environment, features, and usage, but not object creation.\n",
      "\n",
      "Wait, maybe the user is assuming that creating objects is part of the environment, but according to the document, the main features are about opening packages, adding classes, and project management. There's no mention of object creation in the given text. So, the answer should state that the document doesn't provide information on creating objects, and list the available features instead.\n",
      "\n",
      "I need to make sure not to include any information not in the document. The user might be expecting a step-by-step on creating objects, but since the document doesn't cover that, I have to inform them that it's not available here.\n",
      "</think>\n",
      "\n",
      "문서에서 BlueJ에서 객체를 생성하는 방법에 대한 구체적인 설명은 없으며, 제공된 내용은 BlueJ의 프로젝트 관리, 클래스 추가, 패키지 오픈 등 기능에 대한 설명만 포함되어 있습니다. 따라서 객체 생성에 대한 방법은 문서에서 찾을 수 없습니다.  \n",
      "\n",
      "만약 BlueJ를 사용하여 객체를 생성하려면 다음 단계를 따르면 됩니다:  \n",
      "1. **프로젝트 오픈**: 프로젝트를 열고 작업 디렉토리를 선택합니다.  \n",
      "2. **클래스 추가**: 외부에서 만들어진 클래스를 `Edit - Add Class from File...` 메뉴를 통해 추가합니다.  \n",
      "3. **객체 생성**: 추가된 클래스에서 `Create Object` 버튼이나 `New Object` 메뉴를 통해 객체를 생성합니다.  \n",
      "\n",
      "이러한 단계는 문서에서 직접 언급되지 않았으므로, 해당 내용은 문서에서 찾을 수 없습니다.\n",
      "\n",
      "참조 문서:\n",
      "   1. 페이지 3: 4 1. 서문 1.1. BlueJ의 소개 본 튜토리얼은 BlueJ 프로그래밍 환경을 사용하...\n",
      "   2. 페이지 33: 34 10.기타 기능들 10.1. BlueJ로 만들지 않은 패키지 오픈하기   BlueJ는...\n",
      "\n",
      "----------------------------------------\n",
      "\n",
      "【테스트 2/2】\n",
      "질문: 컴파일 오류가 발생했을 때 어떻게 확인할 수 있나요?\n",
      "답변 생성 중...\n",
      "\n",
      "답변: (응답시간: 29.2초)\n",
      "--------------------------------------------------\n",
      "<think>\n",
      "Okay, let's tackle this question. The user is asking how to check for a compilation error using BlueJ. From the provided document, I need to outline the steps based on the content given.\n",
      "\n",
      "First, the document mentions that when a compilation error occurs, you can use the debugger to inspect the current state of objects. But the user is specifically asking about compilation errors, not runtime issues. The document doesn't directly talk about compilation errors, but it does mention using the debugger to step through code, which might help in identifying issues.\n",
      "\n",
      "The user wants to know the steps. The document talks about setting breakpoints, stepping through code, and using the debugger window. However, compilation errors are related to the source code being invalid, not the execution. So, the answer should guide the user to check the source code for errors, maybe using the editor to look for syntax issues, and if there's a compilation error, the error message would indicate where the problem is.\n",
      "\n",
      "But the document doesn't mention compilation errors explicitly. So, I need to note that the document doesn't cover compilation errors, but the steps for using the debugger to inspect code might help. The user might need to check the source code for syntax errors, and if there's a compilation error, the error message in the editor would indicate the line with the error.\n",
      "\n",
      "So, the answer should mention that the document doesn't cover compilation errors, but the steps for using the debugger to inspect code, like setting breakpoints and stepping through code, can help identify issues. The user can check the source code for syntax errors and use the debugger to step through the code to find where the error occurs.\n",
      "</think>\n",
      "\n",
      "문서에서 컴파일 오류를 확인하는 방법은 다음과 같습니다:  \n",
      "\n",
      "1. **소스 코드 검토**:  \n",
      "   - 편집기에서 소스코드의 왼쪽 부분(중단점 영역)을 확인하여 **컴파일 오류 메시지**가 나타나는 라인을 찾습니다.  \n",
      "   - 오류 메시지가 있는 라인을 선택하면, 해당 코드의 구체적인 오류를 확인할 수 있습니다.  \n",
      "\n",
      "2. **디버거 사용**:  \n",
      "   - 오류 메시지가 있는 라인을 마우스로 클릭하여 **Step Into** 버튼을 클릭하면, 해당 메소드의 코드를 단계별로 실행하여 오류 원인을 파악할 수 있습니다.  \n",
      "   - 디버거 윈도우에서 **변수의 상태**를 확인해 오류가 발생하는 이유를 분석할 수 있습니다.  \n",
      "\n",
      "3. **컴파일 오류 확인**:  \n",
      "   - 컴파일 오류는 소스코드의 **형식 오류**(예: 타입 오류, 문법 오류)로 발생합니다.  \n",
      "   - 문서에서 해당 내용은 직접 언급되지 않았으므로, 오류 메시지가 있는 소스코드를 확인하여 해결 방법을 찾는 것이 가장 효과적입니다.  \n",
      "\n",
      "**문서에서 찾을 수 없습니다**.  \n",
      "이러한 단계를 통해 컴파일 오류의 원인을 파악하고, 해결 방법을 찾을 수 있습니다.\n",
      "\n",
      "참조 문서:\n",
      "   1. 페이지 25: 프로그램 실행이 일시 중단 되면, 프로그램 실행에 의해 생성되어 실행중인 객체들의 현재  ...\n",
      "   2. 페이지 27: 28 7.2. 코드의 단계별 실행 현재 실행을 일시 중지한 상태이며(메소드는 실제로 실행이...\n",
      "\n",
      "----------------------------------------\n",
      "\n",
      "테스트 완료! (총 소요시간: 58.7초)\n"
     ]
    }
   ],
   "source": [
    "\n",
    "# 9. 테스트 실행\n",
    "print(\"\\n\" + \"=\" * 60)\n",
    "print(\" 로컬 RAG 시스템 테스트\")\n",
    "print(\"=\" * 60)\n",
    "\n",
    "test_questions = [\n",
    "    \"BlueJ에서 객체를 생성하는 방법은 무엇인가요?\",\n",
    "    \"컴파일 오류가 발생했을 때 어떻게 확인할 수 있나요?\"\n",
    "]\n",
    "\n",
    "total_start_time = time.time()\n",
    "\n",
    "for i, question in enumerate(test_questions, 1):\n",
    "    print(f\"\\n【테스트 {i}/{len(test_questions)}】\")\n",
    "    print(f\"질문: {question}\")\n",
    "    print(\"답변 생성 중...\")\n",
    "    \n",
    "    question_start_time = time.time()\n",
    "    \n",
    "    try:\n",
    "        result = qa_chain.invoke({\"query\": question})\n",
    "        answer = result[\"result\"]\n",
    "        source_docs = result[\"source_documents\"]\n",
    "        \n",
    "        question_time = time.time() - question_start_time\n",
    "        \n",
    "        print(f\"\\n답변: (응답시간: {question_time:.1f}초)\")\n",
    "        print(\"-\" * 50)\n",
    "        print(answer)\n",
    "        \n",
    "        print(f\"\\n참조 문서:\")\n",
    "        for j, doc in enumerate(source_docs[:2], 1):\n",
    "            page = doc.metadata.get('page', 'N/A')\n",
    "            preview = doc.page_content[:50].replace('\\n', ' ')\n",
    "            print(f\"   {j}. 페이지 {page}: {preview}...\")\n",
    "            \n",
    "    except Exception as e:\n",
    "        print(f\"답변 생성 실패: {e}\")\n",
    "    \n",
    "    print(\"\\n\" + \"-\" * 40)\n",
    "\n",
    "total_time = time.time() - total_start_time\n",
    "print(f\"\\n테스트 완료! (총 소요시간: {total_time:.1f}초)\")\n"
   ]
  },
  {
   "cell_type": "code",
   "execution_count": 44,
   "id": "bc207cf3",
   "metadata": {},
   "outputs": [
    {
     "name": "stdout",
     "output_type": "stream",
     "text": [
      "\n",
      "============================================================\n",
      " 대화형 모드 (종료: 'quit' 입력)\n",
      "============================================================\n",
      "답변 생성 중...\n",
      "\n",
      "답변: (응답시간: 22.3초)\n",
      "--------------------------------------------------\n",
      "<think>\n",
      "Okay, let's see. The user is asking for a response based on the provided document content. The question is \"안녕 반갑다\" which means \"Hello, how are you?\" So I need to answer in Korean, following the given rules.\n",
      "\n",
      "First, the rules: use only the document content, explain step by step, include specific menu names and buttons, and if the info isn't in the document, say \"문서에서 찾을 수 없습니다\".\n",
      "\n",
      "Looking at the document content, it's about BlueJ programming environment. The sections include chapters like 12. 번역을 마치며 (Translation is done), 7.4. 중지와 종료 (Stopping and ending), 8. 독립형 어플리케이션 생성 (Creating independent applications), 9. 애플릿 만들기 (Creating applets), and some sub-sections like 9.1 and 9.2.\n",
      "\n",
      "The user's message is a greeting, so the answer should be a friendly response. But according to the rules, I need to base the answer on the document. However, the document doesn't have any information about greetings or responses. The document is about programming concepts, not about greetings.\n",
      "\n",
      "So, since there's no mention of greetings or responses in the document, I have to say that the information isn't present. But the user's message is a greeting, so maybe the answer should be a friendly response. Wait, the rules say to use only the document content. Since the document doesn't mention greetings, I can't include that. Therefore, the answer should state that the information isn't in the document.\n",
      "\n",
      "But the user's message is a greeting, so maybe the assistant should respond politely. However, the rules strictly say to use only the document content. So the correct answer would be that the information isn't in the document.\n",
      "</think>\n",
      "\n",
      "문서에서 찾을 수 없습니다.  \n",
      "BlueJ 프로그래밍 환경은 프로그램 개발, 애플릿, 독립형 어플리케이션 등 다양한 기능을 제공하지만, 환영 인사나 대화 내용에 대한 정보는 문서에 없습니다. 문서에서는 프로그래밍 기초 개념, 애플릿 개발, 종료 및 중지 방법 등 기술적인 내용만 기술되어 있습니다.\n",
      "RAG 시스템을 종료합니다.\n",
      "\n",
      "로컬 RAG 시스템 세션 종료!\n"
     ]
    }
   ],
   "source": [
    "\n",
    "# 10. 대화형 모드\n",
    "print(\"\\n\" + \"=\" * 60)\n",
    "print(\" 대화형 모드 (종료: 'quit' 입력)\")\n",
    "print(\"=\" * 60)\n",
    "\n",
    "while True:\n",
    "    try:\n",
    "        user_question = input(\"\\n질문을 입력하세요: \").strip()\n",
    "        \n",
    "        if user_question.lower() in ['quit', 'exit', '종료', 'q']:\n",
    "            print(\"RAG 시스템을 종료합니다.\")\n",
    "            break\n",
    "            \n",
    "        if not user_question:\n",
    "            continue\n",
    "            \n",
    "        print(\"답변 생성 중...\")\n",
    "        start_time = time.time()\n",
    "        \n",
    "        result = qa_chain.invoke({\"query\": user_question})\n",
    "        answer = result[\"result\"]\n",
    "        response_time = time.time() - start_time\n",
    "        \n",
    "        print(f\"\\n답변: (응답시간: {response_time:.1f}초)\")\n",
    "        print(\"-\" * 50)\n",
    "        print(answer)\n",
    "        \n",
    "    except KeyboardInterrupt:\n",
    "        print(\"\\nRAG 시스템을 종료합니다.\")\n",
    "        break\n",
    "    except Exception as e:\n",
    "        print(f\"오류 발생: {e}\")\n",
    "\n",
    "print(\"\\n로컬 RAG 시스템 세션 종료!\")"
   ]
  }
 ],
 "metadata": {
  "kernelspec": {
   "display_name": "langchain-basic-1X1DiDoy-py3.12",
   "language": "python",
   "name": "python3"
  },
  "language_info": {
   "codemirror_mode": {
    "name": "ipython",
    "version": 3
   },
   "file_extension": ".py",
   "mimetype": "text/x-python",
   "name": "python",
   "nbconvert_exporter": "python",
   "pygments_lexer": "ipython3",
   "version": "3.12.7"
  }
 },
 "nbformat": 4,
 "nbformat_minor": 5
}
