{
 "cells": [
  {
   "cell_type": "code",
   "execution_count": 2,
   "id": "6e6c0d01",
   "metadata": {},
   "outputs": [
    {
     "name": "stdout",
     "output_type": "stream",
     "text": [
      "\n",
      "\u001b[1m[\u001b[0m\u001b[34;49mnotice\u001b[0m\u001b[1;39;49m]\u001b[0m\u001b[39;49m A new release of pip is available: \u001b[0m\u001b[31;49m22.0.4\u001b[0m\u001b[39;49m -> \u001b[0m\u001b[32;49m25.1.1\u001b[0m\n",
      "\u001b[1m[\u001b[0m\u001b[34;49mnotice\u001b[0m\u001b[1;39;49m]\u001b[0m\u001b[39;49m To update, run: \u001b[0m\u001b[32;49mpip install --upgrade pip\u001b[0m\n",
      "Note: you may need to restart the kernel to use updated packages.\n"
     ]
    }
   ],
   "source": [
    "%pip install -q langchain langchain-openai python-dotenv"
   ]
  },
  {
   "cell_type": "code",
   "execution_count": 15,
   "id": "f1db50eb",
   "metadata": {},
   "outputs": [],
   "source": [
    "from dotenv import load_dotenv\n",
    "import os\n",
    "\n",
    "# .env 파일에서 API 키 로드\n",
    "load_dotenv()\n",
    "\n",
    "GROQ_API_KEY = os.getenv(\"GROQ_API_KEY\")\n"
   ]
  },
  {
   "cell_type": "code",
   "execution_count": 4,
   "id": "8611b169",
   "metadata": {},
   "outputs": [],
   "source": [
    "from langchain_core.prompts import PromptTemplate\n",
    "from langchain_openai import ChatOpenAI\n",
    "from langchain_core.output_parsers import StrOutputParser"
   ]
  },
  {
   "cell_type": "code",
   "execution_count": 11,
   "id": "e75ddf95",
   "metadata": {},
   "outputs": [
    {
     "name": "stdout",
     "output_type": "stream",
     "text": [
      "input_variables=['ingredients'] input_types={} partial_variables={} template='\\n당신은 친근하고 전문적인 AI 요리사입니다.\\n사용자가 제공한 재료로 만들 수 있는 요리를 추천하고,\\n상세한 레시피를 제공해주세요.\\n\\n재료: {ingredients}\\n\\n다음 형식으로 답변해주세요:\\n- 추천 요리명\\n- 필요한 재료 목록 (제공된 재료 포함)\\n- 단계별 조리법\\n- 조리 팁\\n\\n친근하고 따뜻한 톤으로 설명해주세요.\\n'\n"
     ]
    }
   ],
   "source": [
    "# 1. PromptTemplate 생성\n",
    "cooking_prompt = PromptTemplate.from_template(\n",
    "    \"\"\"\n",
    "당신은 친근하고 전문적인 AI 요리사입니다.\n",
    "사용자가 제공한 재료로 만들 수 있는 요리를 추천하고,\n",
    "상세한 레시피를 제공해주세요.\n",
    "\n",
    "재료: {ingredients}\n",
    "\n",
    "다음 형식으로 답변해주세요:\n",
    "- 추천 요리명\n",
    "- 필요한 재료 목록 (제공된 재료 포함)\n",
    "- 단계별 조리법\n",
    "- 조리 팁\n",
    "\n",
    "친근하고 따뜻한 톤으로 설명해주세요.\n",
    "\"\"\"\n",
    ")\n",
    "\n",
    "print(cooking_prompt)"
   ]
  },
  {
   "cell_type": "code",
   "execution_count": 12,
   "id": "c4f06c8b",
   "metadata": {},
   "outputs": [],
   "source": [
    "llm = ChatOpenAI(\n",
    "    api_key=GROQ_API_KEY,\n",
    "    base_url=\"https://api.groq.com/openai/v1\",  # Groq API 엔드포인트\n",
    "    model=\"meta-llama/llama-4-scout-17b-16e-instruct\",\n",
    "    temperature=0.7\n",
    ")\n",
    "\n",
    "# 3. 출력 파서\n",
    "output_parser = StrOutputParser()\n",
    "\n",
    "# 4. 체인 생성 (LCEL 사용)\n",
    "cooking_chain = cooking_prompt | llm | output_parser"
   ]
  },
  {
   "cell_type": "code",
   "execution_count": 13,
   "id": "c9c4cb0a",
   "metadata": {},
   "outputs": [
    {
     "name": "stdout",
     "output_type": "stream",
     "text": [
      "AI 요리사 - 재료 기반 요리 추천\n",
      "=====================================\n",
      "\n",
      "입력 재료: 계란, 밥, 김치\n",
      "\n",
      "AI 요리사의 추천:\n",
      "### 추천 요리명\n",
      "\n",
      "김치계란밥\n",
      "\n",
      "### 필요한 재료 목록\n",
      "\n",
      "- 계란\n",
      "- 밥\n",
      "- 김치\n",
      "- 참기름 (선택 사항)\n",
      "- 소금, 후추 (선택 사항)\n",
      "\n",
      "### 단계별 조리법\n",
      "\n",
      "1.  **김치 준비하기** *   김치를 잘게 썰어주세요. 김치가 아주 매울 경우 물에 한 번 헹궈주면 매운맛을 조금 줄일 수 있어요.\n",
      "2.  **계란 준비하기** *   계란을 깨뜨려 그릇에 담고, 소금과 후추를 약간 뿌려 섞어주세요. 계란을 잘 풀어주면 더 좋아요!\n",
      "3.  **김치볶음** *   팬을 중불로 가열하고, 썰어 놓은 김치를 넣고 볶아주세요. 김치가 약간 졸고 향이 나면 됩니다.\n",
      "4.  **계란 넣기** *   김치가 볶아지면 준비해 놓은 계란을 붓고, 계란이 반숙이 될 때까지 저어주세요. 계란이 고슬고슬하게 익으면 더 좋아요!\n",
      "5.  **밥 넣기** *   이제 밥을 넣고 잘 섞어주세요. 밥이 계란과 김치와 잘 어울리도록 골고루 섞어주세요.\n",
      "6.  **마무리** *   마지막으로 참기름을 한 방울 떨어뜨리고, 소금과 후추로 간을 맞춰주세요. 기호에 따라 참기름을 생략할 수도 있어요.\n",
      "\n",
      "### 조리 팁\n",
      "\n",
      "*   김치를 아주 매운 맛으로 좋아하신다면, 김치를 볶을 때 고춧가루를 조금 추가해 보세요. 더 깊은 매운맛을 즐길 수 있어요.\n",
      "*   계란을 더 고슬고슬하게 먹고 싶다면, 계란을 넣은 후 조금 더 오래 볶아주세요. 하지만 너무 오래 볶으면 계란이 질겨질 수 있으니 주의하세요.\n",
      "*   밥이 식은 밥이면 더 좋아요. 식은 밀 사용하면 김치와 계란이 잘 섞이고, 밥이 뭉치지 않아요.\n",
      "\n",
      "맛있는 김치계란밥을 즐겨보세요!\n"
     ]
    }
   ],
   "source": [
    "try:\n",
    "    ingredients = \"계란, 밥, 김치\"\n",
    "    result = cooking_chain.invoke({\"ingredients\": ingredients})\n",
    "    \n",
    "    print(\"AI 요리사 - 재료 기반 요리 추천\")\n",
    "    print(\"=====================================\")\n",
    "    print(f\"\\n입력 재료: {ingredients}\")\n",
    "    print(\"\\nAI 요리사의 추천:\")\n",
    "    print(result)\n",
    "    \n",
    "except Exception as e:\n",
    "    print(f\"오류 발생: {e}\")"
   ]
  },
  {
   "cell_type": "code",
   "execution_count": 14,
   "id": "9ce2a17f",
   "metadata": {},
   "outputs": [
    {
     "name": "stdout",
     "output_type": "stream",
     "text": [
      "다른 재료로 테스트:\n",
      "===================\n",
      "\n",
      "입력 재료: 토마토, 양파, 치즈\n",
      "\n",
      "AI 요리사의 추천:\n",
      "### **토마토 치즈 피자**\n",
      "\n",
      "**필요한 재료 목록:**\n",
      "\n",
      "*   토마토 2개\n",
      "*   양파 1/2개\n",
      "*   치즈 (모짜렐라 치즈 또는 슈레드 치즈) 1컵\n",
      "*   피자도우 (또는 빵) 1개 (홈메이드 또는 마트에서 구매)\n",
      "*   올리브 오일 1테이블스푼\n",
      "*   소금과 후추 조금\n",
      "*   선택 사항: 바질, 오레가노\n",
      "\n",
      "### **단계별 조리법:**\n",
      "\n",
      "1.  **피자 도우 준비:** *   피자 도우를 집에서 직접 만들거나, 마트에서 사온 기성품을 사용하세요. *   도우를 얇게 펴서 베이킹 시트에 올려주세요.\n",
      "2.  **토마토와 양파 준비:** *   토마토를 얇게 썰고, 양파를 잘게 썰어주세요. *   토마토와 양파를 소금과 후추로 살짝 간을 해주세요.\n",
      "3.  **도우에 소스 바르기:** *   피자 도우에 올리브 오일을 바르고, 토마토를 얹어주세요.\n",
      "4.  **토핑 추가:** *   썰어 놓은 양파를 토마토 위에 올려주세요. *   모짜렐라 치즈 또는 슈레드 치즈를 듬뿍 뿌려주세요. *   선택 사항: 바질이나 오레가노를 추가하면 더 맛있어요!\n",
      "5.  **구워내기:** *   오븐을 180도로 예열하고, 피자를 15-20분 정도 구워주세요. *   치즈가 녹고 도우가 황금색이 되면 완성입니다!\n",
      "\n",
      "### **조리 팁:**\n",
      "\n",
      "*   **도우가 너무 두꺼우면:** *   도우를 얇게 펴서 구워야 더 바삭하고 맛있어요.\n",
      "*   **치즈가 녹지 않으면:** *   오븐 온도를 높여서 치즈가 잘 녹도록 조절해 보세요.\n",
      "*   **토마토가 너무 물러지면:** *   토마토를 조금 더 얇게 썰어서 사용해 보세요.\n",
      "\n",
      "### **요리 완성!**\n",
      "\n",
      "이제 맛있는 토마토 치즈 피자가 완성되었습니다! 가족이나 친구들과 함께 즐기세요.\n"
     ]
    }
   ],
   "source": [
    "other_ingredients = \"토마토, 양파, 치즈\"\n",
    "other_result = cooking_chain.invoke({\"ingredients\": other_ingredients})\n",
    "\n",
    "print(\"다른 재료로 테스트:\")\n",
    "print(\"===================\")\n",
    "print(f\"\\n입력 재료: {other_ingredients}\")\n",
    "print(\"\\nAI 요리사의 추천:\")\n",
    "print(other_result)"
   ]
  }
 ],
 "metadata": {
  "kernelspec": {
   "display_name": "base",
   "language": "python",
   "name": "python3"
  },
  "language_info": {
   "codemirror_mode": {
    "name": "ipython",
    "version": 3
   },
   "file_extension": ".py",
   "mimetype": "text/x-python",
   "name": "python",
   "nbconvert_exporter": "python",
   "pygments_lexer": "ipython3",
   "version": "3.9.12"
  }
 },
 "nbformat": 4,
 "nbformat_minor": 5
}
